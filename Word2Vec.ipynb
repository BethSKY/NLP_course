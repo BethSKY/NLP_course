{
  "cells": [
    {
      "cell_type": "markdown",
      "metadata": {
        "id": "4tb3vk2XeKtT"
      },
      "source": [
        "# <font color=purple>Trying to understand how Word2Vec works</font>"
      ]
    },
    {
      "cell_type": "code",
      "execution_count": 1,
      "metadata": {
        "id": "gHx3xnSATylQ"
      },
      "outputs": [],
      "source": [
        "import gensim.downloader as api\n",
        "from gensim.utils import simple_preprocess\n",
        "from gensim.models.word2vec import Word2Vec\n",
        "from gensim.models.doc2vec import TaggedDocument, Doc2Vec\n",
        "import logging "
      ]
    },
    {
      "cell_type": "code",
      "execution_count": 2,
      "metadata": {
        "id": "T7CLM5f2BLTx"
      },
      "outputs": [],
      "source": [
        "import re\n",
        "import itertools\n",
        "import math\n",
        "import string\n",
        "import nltk\n",
        "# Access the Gutenberg Corpus\n",
        "from nltk.corpus import gutenberg\n",
        "import pandas as pd\n",
        "import numpy as np\n",
        "import random\n",
        "\n",
        "from nltk.probability import FreqDist\n",
        "\n",
        "from nltk.corpus import stopwords"
      ]
    },
    {
      "cell_type": "code",
      "execution_count": 3,
      "metadata": {
        "colab": {
          "base_uri": "https://localhost:8080/"
        },
        "id": "e_qp_B4XBkl-",
        "outputId": "15746168-db86-4b3c-86e0-4e5d8f774d55"
      },
      "outputs": [
        {
          "output_type": "stream",
          "name": "stderr",
          "text": [
            "[nltk_data] Downloading package stopwords to /root/nltk_data...\n",
            "[nltk_data]   Unzipping corpora/stopwords.zip.\n",
            "[nltk_data] Downloading package punkt to /root/nltk_data...\n",
            "[nltk_data]   Unzipping tokenizers/punkt.zip.\n",
            "[nltk_data] Downloading package gutenberg to /root/nltk_data...\n",
            "[nltk_data]   Unzipping corpora/gutenberg.zip.\n"
          ]
        },
        {
          "output_type": "execute_result",
          "data": {
            "text/plain": [
              "True"
            ]
          },
          "metadata": {},
          "execution_count": 3
        }
      ],
      "source": [
        "nltk.download('stopwords') #<-- we run this command to download the stopwords in the project\n",
        "nltk.download('punkt') #<-- essential for tokenization\n",
        "nltk.download('gutenberg') #<-- corpus for training the model"
      ]
    },
    {
      "cell_type": "markdown",
      "metadata": {
        "id": "ku-rSdWzhn3S"
      },
      "source": [
        "# Function from lecturer\n",
        "## <font color=purple>The function that cleans the data</font>"
      ]
    },
    {
      "cell_type": "code",
      "execution_count": null,
      "metadata": {
        "id": "BveB75-ThpA4"
      },
      "outputs": [],
      "source": [
        "def clean(inp: str) -> str:\n",
        "\n",
        "    inp = inp.translate(str.maketrans(string.punctuation, \" \"*len(string.punctuation)))\n",
        "    inp = re.sub(r'\\s+', ' ', inp.lower())\n",
        "\n",
        "    return inp"
      ]
    },
    {
      "cell_type": "code",
      "execution_count": null,
      "metadata": {
        "colab": {
          "base_uri": "https://localhost:8080/",
          "height": 35
        },
        "id": "IQS0IwTdhuB9",
        "outputId": "bcf3d12e-c16d-4490-fc3c-48adb304bf6e"
      },
      "outputs": [
        {
          "data": {
            "application/vnd.google.colaboratory.intrinsic+json": {
              "type": "string"
            },
            "text/plain": [
              "' if you use a car frequently the first step to cutting down your emissions may well be to simply fully consider the alternatives available to you '"
            ]
          },
          "execution_count": 208,
          "metadata": {},
          "output_type": "execute_result"
        }
      ],
      "source": [
        "# from a list of sentences\n",
        "documents = [\"If you use a car frequently, the first step to cutting\",\n",
        "             \"down your emissions may well be to simply\", \n",
        "             \"fully consider the\", \n",
        "             \"alternatives available to you.\"\n",
        "             ]\n",
        "clean(str(documents))"
      ]
    },
    {
      "cell_type": "markdown",
      "metadata": {
        "id": "WIXz6PtHhfjN"
      },
      "source": [
        "# <font color=purple>To train my own Word2Vec model I need:</font>\n",
        "1. **Obtain a large corpus of text**: You will need a large amount of text data to train your Word2vec model. You can obtain text data from various sources such as Wikipedia, news articles, or social media posts.\n",
        "2. **Preprocess the text**: Before training the Word2vec model, you will need to preprocess the text data by removing stop words, punctuations, and other non-essential elements. You can also tokenize the text data into words or phrases to prepare it for training.\n",
        "3. **Choose a Word2vec algorithm**: There are two main algorithms for training Word2vec models: Continuous Bag of Words (CBOW) and Skip-gram. CBOW predicts a word based on its context, while Skip-gram predicts the context based on a word. Choose the algorithm that best suits your needs.\n",
        "4. **Train the Word2vec model**: You can train the Word2vec model using popular libraries such as Gensim or TensorFlow. These libraries provide easy-to-use functions to train and test the Word2vec model. During training, the model learns to associate each word in the vocabulary with a vector of real numbers, which represent the word embedding.\n",
        "5. **Evaluate the Word2vec model**: Once the Word2vec model is trained, you can evaluate its performance using intrinsic or extrinsic evaluation methods. Intrinsic evaluation focuses on evaluating specific aspects of the model in isolation, such as its ability to generate embeddings or to classify sentences based on sentiment. Extrinsic evaluation measures the performance of the model on a specific task, such as language modeling or sentiment analysis.\n",
        "6. **Use the Word2vec model**: After training and evaluating the Word2vec model, you can use it for various natural language processing tasks, such as information retrieval, text classification, or machine translation."
      ]
    },
    {
      "cell_type": "markdown",
      "metadata": {
        "id": "fdWXu_HUkrJC"
      },
      "source": [
        "## <font color=blue>Obtain a large corpus of text</font>\n",
        "> Попробуем сначала поработать с корпусом Gutenberg (классическая литература), если что, переключимся на Brown (новости на английском)"
      ]
    },
    {
      "cell_type": "code",
      "execution_count": 4,
      "metadata": {
        "colab": {
          "base_uri": "https://localhost:8080/"
        },
        "id": "eIgUJOK4kx0M",
        "outputId": "7793ff7f-1209-4ecc-ce1b-bf1c0ecd694b"
      },
      "outputs": [
        {
          "output_type": "stream",
          "name": "stdout",
          "text": [
            "['austen-emma.txt', 'austen-persuasion.txt', 'austen-sense.txt', 'bible-kjv.txt', 'blake-poems.txt', 'bryant-stories.txt', 'burgess-busterbrown.txt', 'carroll-alice.txt', 'chesterton-ball.txt', 'chesterton-brown.txt', 'chesterton-thursday.txt', 'edgeworth-parents.txt', 'melville-moby_dick.txt', 'milton-paradise.txt', 'shakespeare-caesar.txt', 'shakespeare-hamlet.txt', 'shakespeare-macbeth.txt', 'whitman-leaves.txt'] \n",
            "\n",
            "['[', 'Alice', \"'\", 's', 'Adventures', 'in', 'Wonderland', 'by', 'Lewis', 'Carroll', '1865', ']']\n",
            "['CHAPTER', 'I', '.']\n",
            "['Down', 'the', 'Rabbit', '-', 'Hole']\n",
            "['Alice', 'was', 'beginning', 'to', 'get', 'very', 'tired', 'of', 'sitting', 'by', 'her', 'sister', 'on', 'the', 'bank', ',', 'and', 'of', 'having', 'nothing', 'to', 'do', ':', 'once', 'or', 'twice', 'she', 'had', 'peeped', 'into', 'the', 'book', 'her', 'sister', 'was', 'reading', ',', 'but', 'it', 'had', 'no', 'pictures', 'or', 'conversations', 'in', 'it', ',', \"'\", 'and', 'what', 'is', 'the', 'use', 'of', 'a', 'book', \",'\", 'thought', 'Alice', \"'\", 'without', 'pictures', 'or', 'conversation', \"?'\"]\n",
            "['So', 'she', 'was', 'considering', 'in', 'her', 'own', 'mind', '(', 'as', 'well', 'as', 'she', 'could', ',', 'for', 'the', 'hot', 'day', 'made', 'her', 'feel', 'very', 'sleepy', 'and', 'stupid', '),', 'whether', 'the', 'pleasure', 'of', 'making', 'a', 'daisy', '-', 'chain', 'would', 'be', 'worth', 'the', 'trouble', 'of', 'getting', 'up', 'and', 'picking', 'the', 'daisies', ',', 'when', 'suddenly', 'a', 'White', 'Rabbit', 'with', 'pink', 'eyes', 'ran', 'close', 'by', 'her', '.']\n",
            "['[', 'Alice', \"'\", 's', 'Adventures', 'in', 'Wonderland', 'by', 'Lewis', 'Carroll', '1865', ']', 'CHAPTER', 'I', '.', 'Down', 'the', 'Rabbit', '-', 'Hole']\n"
          ]
        }
      ],
      "source": [
        "# Print the books in the Gutenberg Corpus\n",
        "print(gutenberg.fileids(), '\\n')\n",
        "\n",
        "# Print the first few sentences of a book\n",
        "sentences = gutenberg.sents('carroll-alice.txt')\n",
        "for sentence in sentences[:5]:\n",
        "    print(sentence)\n",
        "\n",
        "# Transform data from nested lists to one list\n",
        "result1 = list(itertools.chain(*sentences))\n",
        "print(result1[:20])"
      ]
    },
    {
      "cell_type": "markdown",
      "metadata": {
        "id": "jjKWptxrqnbO"
      },
      "source": [
        "## <font color=blue>Preprocess the text</font>\n",
        "\n",
        "Source: https://towardsdatascience.com/how-to-train-a-word2vec-model-from-scratch-with-gensim-c457d587e031"
      ]
    },
    {
      "cell_type": "code",
      "execution_count": 5,
      "metadata": {
        "id": "MhQNigyffCxV"
      },
      "outputs": [],
      "source": [
        "def preprocess_text(text: str, remove_stopwords: bool) -> str:\n",
        "    \"\"\"Function that cleans the input text by going to:\n",
        "    - remove links\n",
        "    - remove special characters\n",
        "    - remove numbers\n",
        "    - remove stopwords\n",
        "    - convert to lowercase\n",
        "    - remove excessive white spaces\n",
        "    Arguments:\n",
        "        text (str): text to clean\n",
        "        remove_stopwords (bool): whether to remove stopwords\n",
        "    Returns:\n",
        "        str: cleaned text\n",
        "    \"\"\"\n",
        "    # remove links\n",
        "    text = re.sub(r\"http\\S+\", \"\", text)\n",
        "    # remove numbers and special characters\n",
        "    text = re.sub(\"[^A-Za-z]+\", \" \", text)\n",
        "    # remove stopwords\n",
        "    if remove_stopwords:\n",
        "        # 1. create tokens\n",
        "        tokens = nltk.word_tokenize(text)\n",
        "        # 2. check if it's a stopword\n",
        "        tokens = [w.lower().strip() for w in tokens if not w.lower() in stopwords.words(\"english\")]\n",
        "        # return a list of cleaned tokens\n",
        "        return tokens"
      ]
    },
    {
      "cell_type": "code",
      "execution_count": 6,
      "metadata": {
        "colab": {
          "base_uri": "https://localhost:8080/"
        },
        "id": "bQbYJjmtfCp3",
        "outputId": "e46924a6-c1bc-4721-856b-c6c7b29b84b0"
      },
      "outputs": [
        {
          "output_type": "execute_result",
          "data": {
            "text/plain": [
              "[['alice', 'adventures', 'wonderland', 'lewis', 'carroll'],\n",
              " ['chapter'],\n",
              " ['rabbit', 'hole']]"
            ]
          },
          "metadata": {},
          "execution_count": 6
        }
      ],
      "source": [
        "df = pd.DataFrame({'sentences': pd.Series(sentences).astype(str)})\n",
        "df['cleaned'] = df.sentences.apply(lambda x: preprocess_text(x, remove_stopwords=True))\n",
        "texts = df.cleaned.tolist()\n",
        "texts[:3]"
      ]
    },
    {
      "cell_type": "markdown",
      "metadata": {
        "id": "gX40D4TRq0Yc"
      },
      "source": [
        "## <font color=blue>Train the Word2Vec model</font>"
      ]
    },
    {
      "cell_type": "markdown",
      "metadata": {
        "id": "b1Aowb5bB6s0"
      },
      "source": [
        "### <font color=scarlett>Word2Vec Model Lite</font> Solution"
      ]
    },
    {
      "cell_type": "code",
      "execution_count": null,
      "metadata": {
        "id": "jMyFBCf_nxzA"
      },
      "outputs": [],
      "source": [
        "import numpy as np\n",
        "import string\n",
        "\n",
        "def tokenize(text):\n",
        "    # Convert text to lowercase\n",
        "    text = text.lower()\n",
        "    # Remove punctuation\n",
        "    text = text.translate(str.maketrans('', '', string.punctuation))\n",
        "    # Split text into tokens (words)\n",
        "    tokens = text.split()\n",
        "    return [tokens]\n",
        "\n",
        "def build_vocab(sentences):\n",
        "    words = []\n",
        "    for sentence in sentences:\n",
        "        words.extend(sentence)\n",
        "    words = sorted(set(words))\n",
        "    word2id = {w: i for i, w in enumerate(words)}\n",
        "    id2word = {i: w for w, i in word2id.items()}\n",
        "    return word2id, id2word\n",
        "    \n",
        "def skipgrams(sentence, window_size):\n",
        "    pairs = []\n",
        "    for i, w in enumerate(sentence):\n",
        "        for j in range(i - window_size, i + window_size + 1):\n",
        "            if j != i and j >= 0 and j < len(sentence):\n",
        "                pairs.append((w, sentence[j]))\n",
        "    return pairs\n",
        "\n",
        "def initialize_weights(vocabulary_size, vector_size):\n",
        "    W1 = np.random.uniform(-0.5, 0.5, size=(vocabulary_size, vector_size))\n",
        "    W2 = np.random.uniform(-0.5, 0.5, size=(vocabulary_size, vector_size))\n",
        "    return W1, W2\n",
        "\n",
        "def pred_function(x):\n",
        "    exp_scores = np.exp(x - np.max(x))\n",
        "    return exp_scores / np.sum(exp_scores, axis=0)\n",
        "    \n",
        "def update_weights(W1, W2, target_word_idx, context_words, dL_dh, dL_du, learning_rate):\n",
        "    W2 -= learning_rate * np.outer(W1[target_word_idx], dL_du)\n",
        "    W1[target_word_idx] -= learning_rate * dL_dh\n",
        "\n",
        "def train_old(pairs, word2id, W1, W2, learning_rate, epochs, vector_size):\n",
        "    for epoch in range(epochs):\n",
        "        loss_history = []\n",
        "        loss = 0\n",
        "        for pair in pairs:\n",
        "            center_word = np.zeros((vector_size,))\n",
        "            context_word = np.zeros((vector_size,))\n",
        "            u = word2id[pair[0]]\n",
        "            v = word2id[pair[1]]\n",
        "            center_word = W1[u]\n",
        "            for context in range(len(word2id)):\n",
        "                if context == v:\n",
        "                    context_word = W2[context]\n",
        "                    z = np.dot(center_word, context_word)\n",
        "                    sig = pred_function(z)\n",
        "                    e = (1 - int(context == v)) - sig\n",
        "                    loss += e**2\n",
        "                    grad_sig = e * learning_rate\n",
        "                    grad_context_word = center_word * grad_sig\n",
        "                    grad_center_word = context_word * grad_sig\n",
        "                    W1[u] -= grad_center_word\n",
        "                    W2[context] -= grad_context_word\n",
        "        # loss_history.append(loss / len(pairs))\n",
        "    return W1, W2\n",
        "\n",
        "\n",
        "def train(data: str):\n",
        "    # All parameters for training the Word2Vec model\n",
        "    window_size=3\n",
        "    vector_size=10\n",
        "    learning_rate=0.001\n",
        "    epochs=100\n",
        "\n",
        "    # Create tokens\n",
        "    text = tokenize(data)\n",
        "\n",
        "    # Build vocabulary\n",
        "    word2id, id2word = build_vocab(text)\n",
        "\n",
        "    # Generate skip-grams\n",
        "    pairs = []\n",
        "    for sentence in data:\n",
        "        pairs.extend(skipgrams(sentence, window_size))\n",
        "\n",
        "    # Initialize weights\n",
        "    W, W_context = initialize_weights(len(word2id), vector_size)\n",
        "\n",
        "    # Train model\n",
        "    W, W_context = train_old(pairs, word2id, W, W_context, learning_rate, epochs, vector_size)\n",
        "\n",
        "    # Create final dictionary\n",
        "    dict_final = {key: W[word2id[key]] for key in word2id.keys()}\n",
        "\n",
        "    return dict_final"
      ]
    },
    {
      "cell_type": "code",
      "execution_count": null,
      "metadata": {
        "id": "OQ20t-3enxqq"
      },
      "outputs": [],
      "source": [
        "train(clean(str(documents)))"
      ]
    },
    {
      "cell_type": "markdown",
      "metadata": {
        "id": "bz_3VKIlTa8v"
      },
      "source": [
        "---\n",
        "### <font color=scarlett>Word2Vec Model</font> Solution"
      ]
    },
    {
      "cell_type": "markdown",
      "metadata": {
        "id": "iQMCxzHPghAv"
      },
      "source": [
        "#### <font color=green>Best option (gensim)</font>"
      ]
    },
    {
      "cell_type": "code",
      "execution_count": null,
      "metadata": {
        "colab": {
          "base_uri": "https://localhost:8080/"
        },
        "id": "XsfYCU3GhmbI",
        "outputId": "ef98a152-1d11-4bea-d5e6-d924e60faac7"
      },
      "outputs": [
        {
          "output_type": "execute_result",
          "data": {
            "text/plain": [
              "array([-0.07938354, -0.14386038, -0.0769747 ,  0.13086031, -0.19609441],\n",
              "      dtype=float32)"
            ]
          },
          "metadata": {},
          "execution_count": 29
        }
      ],
      "source": [
        "model.wv['hole']"
      ]
    },
    {
      "cell_type": "markdown",
      "metadata": {
        "id": "FAfENAiCiPef"
      },
      "source": [
        "#### <font color=green>Custom model</font>"
      ]
    },
    {
      "cell_type": "code",
      "execution_count": 26,
      "metadata": {
        "id": "ztCX1Nf_3hXK"
      },
      "outputs": [],
      "source": [
        "# import numpy as np\n",
        "# import string\n",
        "\n",
        "def tokenize(text):\n",
        "    # Convert text to lowercase\n",
        "    text = text.lower()\n",
        "    # Remove punctuation\n",
        "    text = text.translate(str.maketrans('', '', string.punctuation))\n",
        "    # Split text into tokens (words)\n",
        "    tokens = text.split()\n",
        "    return [tokens]\n",
        "\n",
        "def build_vocab(sentences):\n",
        "    words = []\n",
        "    for sentence in sentences:\n",
        "        words.extend(sentence)\n",
        "    words = sorted(set(words))\n",
        "    word2id = {w: i for i, w in enumerate(words)}\n",
        "    id2word = {i: w for w, i in word2id.items()}\n",
        "    return word2id, id2word\n",
        "    \n",
        "def skipgrams(sentence, window_size):\n",
        "    pairs = []\n",
        "    for i, w in enumerate(sentence):\n",
        "        for j in range(i - window_size, i + window_size + 1):\n",
        "            if j != i and j >= 0 and j < len(sentence):\n",
        "                pairs.append((w, sentence[j]))\n",
        "    return pairs\n",
        "\n",
        "def initialize_weights(vocabulary_size, vector_size):\n",
        "    W1 = np.random.uniform(-0.5, 0.5, size=(vocabulary_size, vector_size))\n",
        "    W2 = np.random.uniform(-0.5, 0.5, size=(vocabulary_size, vector_size))\n",
        "    return W1, W2\n",
        "\n",
        "def pred_function(x):\n",
        "    # exp_scores = np.exp(x - np.max(x))\n",
        "    # return exp_scores / np.sum(exp_scores, axis=0)\n",
        "    return 1 / (1 + np.exp(-x))\n",
        "    \n",
        "def update_weights(W1, W2, target_word_idx, context_words, dL_dh, dL_du, learning_rate):\n",
        "    W2 -= learning_rate * np.outer(W1[target_word_idx], dL_du)\n",
        "    W1[target_word_idx] -= learning_rate * dL_dh\n",
        "\n",
        "# def train_old(pairs, word2id, W1, W2, learning_rate, epochs, vector_size, neg_samples=5):\n",
        "#     vocab_size = len(word2id)\n",
        "#     for epoch in range(epochs):\n",
        "#         loss_history = []\n",
        "#         loss = 0\n",
        "#         for pair in pairs:\n",
        "#             center_word_id = word2id[pair[0]]\n",
        "#             context_word_id = word2id[pair[1]]\n",
        "#             center_word = W1[center_word_id]\n",
        "\n",
        "#             # Positive sample\n",
        "#             context_word = W2[context_word_id]\n",
        "#             z = np.dot(center_word, context_word)\n",
        "#             sig = pred_function(z)\n",
        "#             e = 1 - sig\n",
        "#             loss += -np.log(sig)\n",
        "#             grad_sig = e * learning_rate\n",
        "#             grad_context_word = center_word * grad_sig\n",
        "#             grad_center_word = context_word * grad_sig\n",
        "#             W1[center_word_id] -= grad_center_word\n",
        "#             W2[context_word_id] -= grad_context_word\n",
        "\n",
        "#             # Negative samples\n",
        "#             for _ in range(neg_samples):\n",
        "#                 negative_word_id = random.randint(0, vocab_size - 1)\n",
        "#                 negative_word = W2[negative_word_id]\n",
        "#                 z = np.dot(center_word, negative_word)\n",
        "#                 sig = pred_function(z)\n",
        "#                 e = -sig\n",
        "#                 loss += -np.log(1 - sig)\n",
        "#                 grad_sig = e * learning_rate\n",
        "#                 grad_negative_word = center_word * grad_sig\n",
        "#                 grad_center_word = negative_word * grad_sig\n",
        "#                 W1[center_word_id] -= grad_center_word\n",
        "#                 W2[negative_word_id] -= grad_negative_word\n",
        "\n",
        "#         loss_history.append(loss / len(pairs))\n",
        "#     return W1, W2\n",
        "\n",
        "def train_old(pairs, word2id, W1, W2, learning_rate, epochs, vector_size):\n",
        "    for epoch in range(epochs):\n",
        "        loss_history = []\n",
        "        loss = 0\n",
        "        for pair in pairs:\n",
        "            center_word = np.zeros((vector_size,))\n",
        "            context_word = np.zeros((vector_size,))\n",
        "            u = word2id[pair[0]]\n",
        "            v = word2id[pair[1]]\n",
        "            center_word = W1[u]\n",
        "            for context in range(len(word2id)):\n",
        "                if context == v:\n",
        "                    context_word = W2[context]\n",
        "                    z = np.dot(center_word, context_word)\n",
        "                    sig = pred_function(z)\n",
        "                    e = (1 - int(context == v)) - sig\n",
        "                    loss += e**2\n",
        "                    grad_sig = e * learning_rate\n",
        "                    grad_context_word = center_word * grad_sig\n",
        "                    grad_center_word = context_word * grad_sig\n",
        "                    W1[u] -= grad_center_word\n",
        "                    W2[context] -= grad_context_word\n",
        "        # loss_history.append(loss / len(pairs))\n",
        "    return W1, W2\n",
        "\n",
        "def train(data: str):\n",
        "    # All parameters for training the Word2Vec model\n",
        "    window_size=3\n",
        "    vector_size=5\n",
        "    learning_rate=0.025\n",
        "    epochs=30\n",
        "\n",
        "    # Create tokens\n",
        "    # text = tokenize(data)\n",
        "\n",
        "    # Build vocabulary\n",
        "    # word2id, id2word = build_vocab(text)\n",
        "    word2id, id2word = build_vocab(data)\n",
        "\n",
        "    # Generate skip-grams\n",
        "    pairs = []\n",
        "    for sentence in data:\n",
        "        pairs.extend(skipgrams(sentence, window_size))\n",
        "\n",
        "    # Initialize weights\n",
        "    W, W_context = initialize_weights(len(word2id), vector_size)\n",
        "\n",
        "    # Train model\n",
        "    W, W_context = train_old(pairs, word2id, W, W_context, learning_rate, epochs, vector_size)\n",
        "\n",
        "    # Create final dictionary\n",
        "    dict_final = {key: W[word2id[key]] for key in word2id.keys()}\n",
        "\n",
        "    return dict_final"
      ]
    },
    {
      "cell_type": "code",
      "execution_count": null,
      "metadata": {
        "id": "SpNnzSsH3nLR",
        "colab": {
          "base_uri": "https://localhost:8080/"
        },
        "outputId": "e9480b7e-00bb-4869-a419-c2132652e69d"
      },
      "outputs": [
        {
          "output_type": "stream",
          "name": "stderr",
          "text": [
            "<ipython-input-26-8e2dfc68ae03>:38: RuntimeWarning: overflow encountered in exp\n",
            "  return 1 / (1 + np.exp(-x))\n"
          ]
        }
      ],
      "source": [
        "model1 = train(texts)"
      ]
    },
    {
      "cell_type": "code",
      "execution_count": null,
      "metadata": {
        "id": "GPpKHURF3qNp"
      },
      "outputs": [],
      "source": [
        "model1['hole']"
      ]
    },
    {
      "cell_type": "code",
      "execution_count": 8,
      "metadata": {
        "colab": {
          "base_uri": "https://localhost:8080/"
        },
        "id": "7MlmlrPKkPLy",
        "outputId": "49bf14a3-69f7-4c09-bd07-84d7f5170458"
      },
      "outputs": [
        {
          "output_type": "execute_result",
          "data": {
            "text/plain": [
              "array([-0.00364718,  0.0114101 ,  0.00216129,  0.00318004, -0.00370108,\n",
              "       -0.01124482,  0.01984751,  0.01653038, -0.0095235 , -0.00840776,\n",
              "       -0.01029086, -0.02910182,  0.00525241,  0.00918678, -0.00335718,\n",
              "       -0.01273139,  0.0155248 , -0.01784102, -0.00150149, -0.03703127,\n",
              "        0.00355653, -0.00233406, -0.00379348, -0.00422645, -0.01526637,\n",
              "       -0.00682587, -0.00961521, -0.01189812, -0.0089136 ,  0.00415363,\n",
              "        0.00917382,  0.01876477,  0.0096279 , -0.00309083, -0.00613369,\n",
              "        0.01139245,  0.00194349, -0.00701662,  0.00142381, -0.03124756,\n",
              "       -0.00095404, -0.01266169, -0.00870354,  0.00075566,  0.02220594,\n",
              "       -0.00089491, -0.00937902,  0.00529403,  0.01460433, -0.00393121,\n",
              "        0.00481674, -0.01744236, -0.00675461, -0.01041857, -0.02255509,\n",
              "        0.01236566,  0.00588562,  0.00314462, -0.00992667,  0.00072798,\n",
              "        0.00764192, -0.00057403,  0.00081573, -0.01322731, -0.02228702,\n",
              "        0.00893002,  0.00415908,  0.0079179 , -0.02328489,  0.01177698,\n",
              "       -0.01127677, -0.00385289,  0.01111148, -0.00045387,  0.01129007,\n",
              "        0.01152699,  0.00094257,  0.00244484, -0.00586397,  0.02226993,\n",
              "       -0.00066913,  0.00196738, -0.01740269,  0.01179253,  0.00042139,\n",
              "        0.01327481,  0.01541913,  0.01067825,  0.00900497, -0.00644489,\n",
              "        0.01251955, -0.00028712, -0.00615965,  0.00412488,  0.02008711,\n",
              "        0.00601261,  0.00768166, -0.02712328, -0.00619136,  0.00290696],\n",
              "      dtype=float32)"
            ]
          },
          "metadata": {},
          "execution_count": 8
        }
      ],
      "source": [
        "model.wv['hole']"
      ]
    },
    {
      "cell_type": "code",
      "execution_count": 7,
      "metadata": {
        "id": "Ob7I72KIgh1Z"
      },
      "outputs": [],
      "source": [
        "model = Word2Vec(sentences=texts)"
      ]
    },
    {
      "cell_type": "code",
      "execution_count": null,
      "metadata": {
        "id": "oVuV4nt_mFtF"
      },
      "outputs": [],
      "source": []
    }
  ],
  "metadata": {
    "accelerator": "TPU",
    "colab": {
      "provenance": [],
      "authorship_tag": "ABX9TyOky4MpjuADGmww13+IPAMN"
    },
    "gpuClass": "standard",
    "kernelspec": {
      "display_name": "Python 3",
      "name": "python3"
    },
    "language_info": {
      "name": "python"
    }
  },
  "nbformat": 4,
  "nbformat_minor": 0
}