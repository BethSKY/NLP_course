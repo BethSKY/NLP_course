{
  "cells": [
    {
      "cell_type": "markdown",
      "metadata": {
        "id": "4tb3vk2XeKtT"
      },
      "source": [
        "# <font color=purple>Trying to understand how Word2Vec works</font>"
      ]
    },
    {
      "cell_type": "code",
      "execution_count": null,
      "metadata": {
        "colab": {
          "base_uri": "https://localhost:8080/"
        },
        "id": "gHx3xnSATylQ",
        "outputId": "6bef5220-45a8-4e2a-980e-0623ec00aa63"
      },
      "outputs": [],
      "source": [
        "import gensim.downloader as api\n",
        "from gensim.utils import simple_preprocess\n",
        "from gensim.models.word2vec import Word2Vec\n",
        "from gensim.models.doc2vec import TaggedDocument, Doc2Vec\n",
        "import logging \n",
        "import random\n",
        "\n",
        "# nltk.download('stopwords') #<-- we run this command to download the stopwords in the project\n",
        "# nltk.download('punkt') #<-- essential for tokenization\n",
        "# nltk.download('gutenberg') #<-- corpus for training the model"
      ]
    },
    {
      "cell_type": "code",
      "execution_count": null,
      "metadata": {
        "id": "T7CLM5f2BLTx"
      },
      "outputs": [],
      "source": [
        "import re\n",
        "import itertools\n",
        "import math\n",
        "import string\n",
        "import nltk\n",
        "# Access the Gutenberg Corpus\n",
        "from nltk.corpus import gutenberg\n",
        "import pandas as pd\n",
        "import numpy as np\n",
        "\n",
        "from nltk.probability import FreqDist\n",
        "\n",
        "from nltk.corpus import stopwords"
      ]
    },
    {
      "cell_type": "markdown",
      "metadata": {
        "id": "ku-rSdWzhn3S"
      },
      "source": [
        "# Function from lecturer\n",
        "## <font color=purple>The function that cleans the data</font>"
      ]
    },
    {
      "cell_type": "code",
      "execution_count": null,
      "metadata": {
        "id": "BveB75-ThpA4"
      },
      "outputs": [],
      "source": [
        "def clean(inp: str) -> str:\n",
        "\n",
        "    inp = inp.translate(str.maketrans(string.punctuation, \" \"*len(string.punctuation)))\n",
        "    inp = re.sub(r'\\s+', ' ', inp.lower())\n",
        "\n",
        "    return inp"
      ]
    },
    {
      "cell_type": "code",
      "execution_count": null,
      "metadata": {
        "colab": {
          "base_uri": "https://localhost:8080/",
          "height": 35
        },
        "id": "IQS0IwTdhuB9",
        "outputId": "5928e1ed-a91e-436d-a83f-4117bdbac222"
      },
      "outputs": [],
      "source": [
        "# from a list of sentences\n",
        "documents = [\"If you use a car frequently, the first step to cutting\",\n",
        "             \"down your emissions may well be to simply\", \n",
        "             \"fully consider the\", \n",
        "             \"alternatives available to you.\"\n",
        "             ]\n",
        "clean(str(documents))"
      ]
    },
    {
      "cell_type": "markdown",
      "metadata": {
        "id": "WIXz6PtHhfjN"
      },
      "source": [
        "# <font color=purple>To train my own Word2Vec model I need:</font>\n",
        "1. **Obtain a large corpus of text**: You will need a large amount of text data to train your Word2vec model. You can obtain text data from various sources such as Wikipedia, news articles, or social media posts.\n",
        "2. **Preprocess the text**: Before training the Word2vec model, you will need to preprocess the text data by removing stop words, punctuations, and other non-essential elements. You can also tokenize the text data into words or phrases to prepare it for training.\n",
        "3. **Choose a Word2vec algorithm**: There are two main algorithms for training Word2vec models: Continuous Bag of Words (CBOW) and Skip-gram. CBOW predicts a word based on its context, while Skip-gram predicts the context based on a word. Choose the algorithm that best suits your needs.\n",
        "4. **Train the Word2vec model**: You can train the Word2vec model using popular libraries such as Gensim or TensorFlow. These libraries provide easy-to-use functions to train and test the Word2vec model. During training, the model learns to associate each word in the vocabulary with a vector of real numbers, which represent the word embedding.\n",
        "5. **Evaluate the Word2vec model**: Once the Word2vec model is trained, you can evaluate its performance using intrinsic or extrinsic evaluation methods. Intrinsic evaluation focuses on evaluating specific aspects of the model in isolation, such as its ability to generate embeddings or to classify sentences based on sentiment. Extrinsic evaluation measures the performance of the model on a specific task, such as language modeling or sentiment analysis.\n",
        "6. **Use the Word2vec model**: After training and evaluating the Word2vec model, you can use it for various natural language processing tasks, such as information retrieval, text classification, or machine translation."
      ]
    },
    {
      "cell_type": "markdown",
      "metadata": {
        "id": "fdWXu_HUkrJC"
      },
      "source": [
        "## <font color=blue>Obtain a large corpus of text</font>\n",
        "> Попробуем сначала поработать с корпусом Gutenberg (классическая литература), если что, переключимся на Brown (новости на английском)"
      ]
    },
    {
      "cell_type": "code",
      "execution_count": null,
      "metadata": {
        "colab": {
          "base_uri": "https://localhost:8080/"
        },
        "id": "eIgUJOK4kx0M",
        "outputId": "2ff306ec-19d8-4311-c48a-6c16c3e5bda3"
      },
      "outputs": [],
      "source": [
        "# Print the categories in the Brown Corpus\n",
        "print(gutenberg.fileids(), '\\n')\n",
        "\n",
        "# Print the first few sentences of a book\n",
        "sentences = gutenberg.sents('carroll-alice.txt')\n",
        "for sentence in sentences[:5]:\n",
        "    print(sentence)\n",
        "\n",
        "# Transform data from nested lists to one list\n",
        "result1 = list(itertools.chain(*sentences))\n",
        "print(result1[:20])"
      ]
    },
    {
      "cell_type": "markdown",
      "metadata": {
        "id": "jjKWptxrqnbO"
      },
      "source": [
        "## <font color=blue>Preprocess the text</font>\n",
        "\n",
        "Source: https://towardsdatascience.com/how-to-train-a-word2vec-model-from-scratch-with-gensim-c457d587e031"
      ]
    },
    {
      "cell_type": "code",
      "execution_count": null,
      "metadata": {
        "id": "47T2Jo2GlKQu"
      },
      "outputs": [],
      "source": [
        "def preprocess_text(text: str, remove_stopwords: bool) -> str:\n",
        "    \"\"\"Function that cleans the input text by going to:\n",
        "    - remove links\n",
        "    - remove special characters\n",
        "    - remove numbers\n",
        "    - remove stopwords\n",
        "    - convert to lowercase\n",
        "    - remove excessive white spaces\n",
        "    Arguments:\n",
        "        text (str): text to clean\n",
        "        remove_stopwords (bool): whether to remove stopwords\n",
        "    Returns:\n",
        "        str: cleaned text\n",
        "    \"\"\"\n",
        "    # remove links\n",
        "    text = re.sub(r\"http\\S+\", \"\", text)\n",
        "    # remove numbers and special characters\n",
        "    text = re.sub(\"[^A-Za-z]+\", \" \", text)\n",
        "    # remove stopwords\n",
        "    if remove_stopwords:\n",
        "        # 1. create tokens\n",
        "        tokens = nltk.word_tokenize(text)\n",
        "        # 2. check if it's a stopword\n",
        "        tokens = [w.lower().strip() for w in tokens if not w.lower() in stopwords.words(\"english\")]\n",
        "        # return a list of cleaned tokens\n",
        "        return tokens"
      ]
    },
    {
      "cell_type": "code",
      "execution_count": null,
      "metadata": {
        "colab": {
          "base_uri": "https://localhost:8080/",
          "height": 204
        },
        "id": "DTmZbA-wmLII",
        "outputId": "a071afdf-b369-4c98-d71e-e9aaf70789b6"
      },
      "outputs": [],
      "source": [
        "df = pd.DataFrame({'sentences': pd.Series(sentences).astype(str)})\n",
        "df['cleaned'] = df.sentences.apply(lambda x: preprocess_text(x, remove_stopwords=True))\n",
        "df.head()"
      ]
    },
    {
      "cell_type": "code",
      "execution_count": null,
      "metadata": {
        "colab": {
          "base_uri": "https://localhost:8080/"
        },
        "id": "hWHpgzmEpOGF",
        "outputId": "2b430e19-bc4b-404b-c5aa-efe4c056072c"
      },
      "outputs": [],
      "source": [
        "texts = df.cleaned.tolist()\n",
        "texts[:3]"
      ]
    },
    {
      "cell_type": "markdown",
      "metadata": {
        "id": "gX40D4TRq0Yc"
      },
      "source": [
        "## <font color=blue>Train the Word2Vec model</font>"
      ]
    },
    {
      "attachments": {},
      "cell_type": "markdown",
      "metadata": {},
      "source": [
        "Word2Vec Lite Model</font> Solution"
      ]
    },
    {
      "cell_type": "code",
      "execution_count": null,
      "metadata": {
        "id": "78bIsM0eOuLY"
      },
      "outputs": [],
      "source": [
        "import numpy as np\n",
        "import string\n",
        "\n",
        "def tokenize(text):\n",
        "    # Convert text to lowercase\n",
        "    text = text.lower()\n",
        "    # Remove punctuation\n",
        "    text = text.translate(str.maketrans('', '', string.punctuation))\n",
        "    # Split text into tokens (words)\n",
        "    tokens = text.split()\n",
        "    return [tokens]\n",
        "\n",
        "def build_vocab(sentences):\n",
        "    words = []\n",
        "    for sentence in sentences:\n",
        "        words.extend(sentence)\n",
        "    words = sorted(set(words))\n",
        "    word2id = {w: i for i, w in enumerate(words)}\n",
        "    id2word = {i: w for w, i in word2id.items()}\n",
        "    return word2id, id2word\n",
        "    \n",
        "def skipgrams(sentence, window_size):\n",
        "    pairs = []\n",
        "    for i, w in enumerate(sentence):\n",
        "        for j in range(i - window_size, i + window_size + 1):\n",
        "            if j != i and j >= 0 and j < len(sentence):\n",
        "                pairs.append((w, sentence[j]))\n",
        "    return pairs\n",
        "\n",
        "def initialize_weights(vocabulary_size, vector_size):\n",
        "    W1 = np.random.uniform(-0.5, 0.5, size=(vocabulary_size, vector_size))\n",
        "    W2 = np.random.uniform(-0.5, 0.5, size=(vocabulary_size, vector_size))\n",
        "    return W1, W2\n",
        "\n",
        "def pred_function(x):\n",
        "    exp_scores = np.exp(x - np.max(x))\n",
        "    return exp_scores / np.sum(exp_scores, axis=0)\n",
        "    \n",
        "def update_weights(W1, W2, target_word_idx, context_words, dL_dh, dL_du, learning_rate):\n",
        "    W2 -= learning_rate * np.outer(W1[target_word_idx], dL_du)\n",
        "    W1[target_word_idx] -= learning_rate * dL_dh\n",
        "\n",
        "def train_old(pairs, word2id, W1, W2, learning_rate, epochs, vector_size):\n",
        "    for epoch in range(epochs):\n",
        "        loss_history = []\n",
        "        loss = 0\n",
        "        for pair in pairs:\n",
        "            center_word = np.zeros((vector_size,))\n",
        "            context_word = np.zeros((vector_size,))\n",
        "            u = word2id[pair[0]]\n",
        "            v = word2id[pair[1]]\n",
        "            center_word = W1[u]\n",
        "            for context in range(len(word2id)):\n",
        "                if context == v:\n",
        "                    context_word = W2[context]\n",
        "                    z = np.dot(center_word, context_word)\n",
        "                    sig = pred_function(z)\n",
        "                    e = (1 - int(context == v)) - sig\n",
        "                    loss += e**2\n",
        "                    grad_sig = e * learning_rate\n",
        "                    grad_context_word = center_word * grad_sig\n",
        "                    grad_center_word = context_word * grad_sig\n",
        "                    W1[u] -= grad_center_word\n",
        "                    W2[context] -= grad_context_word\n",
        "        # loss_history.append(loss / len(pairs))\n",
        "    return W1, W2\n",
        "\n",
        "\n",
        "def train(data: str):\n",
        "    # All parameters for training the Word2Vec model\n",
        "    window_size=3\n",
        "    vector_size=10\n",
        "    learning_rate=0.001\n",
        "    epochs=100\n",
        "\n",
        "    # Create tokens\n",
        "    text = tokenize(data)\n",
        "\n",
        "    # Build vocabulary\n",
        "    word2id, id2word = build_vocab(text)\n",
        "\n",
        "    # Generate skip-grams\n",
        "    pairs = []\n",
        "    for sentence in data:\n",
        "        pairs.extend(skipgrams(sentence, window_size))\n",
        "\n",
        "    # Initialize weights\n",
        "    W, W_context = initialize_weights(len(word2id), vector_size)\n",
        "\n",
        "    # Train model\n",
        "    W, W_context = train_old(pairs, word2id, W, W_context, learning_rate, epochs, vector_size)\n",
        "\n",
        "    # Create final dictionary\n",
        "    dict_final = {key: W[word2id[key]] for key in word2id.keys()}\n",
        "\n",
        "    return dict_final"
      ]
    }
  ],
  "metadata": {
    "accelerator": "TPU",
    "colab": {
      "authorship_tag": "ABX9TyMsmhd5KsVQBTIbgJ3r+gBZ",
      "provenance": []
    },
    "gpuClass": "standard",
    "kernelspec": {
      "display_name": "Python 3",
      "name": "python3"
    },
    "language_info": {
      "codemirror_mode": {
        "name": "ipython",
        "version": 3
      },
      "file_extension": ".py",
      "mimetype": "text/x-python",
      "name": "python",
      "nbconvert_exporter": "python",
      "pygments_lexer": "ipython3",
      "version": "3.10.4"
    }
  },
  "nbformat": 4,
  "nbformat_minor": 0
}
